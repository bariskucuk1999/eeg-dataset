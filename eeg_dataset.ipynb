{
 "cells": [
  {
   "cell_type": "code",
   "execution_count": 19,
   "id": "e504f3f3",
   "metadata": {},
   "outputs": [],
   "source": [
    "import pandas as pd\n",
    "import os\n",
    "import gzip\n",
    "import numpy as np"
   ]
  },
  {
   "cell_type": "markdown",
   "id": "43cd2d20",
   "metadata": {},
   "source": [
    "Her denek için dosya başlıklarındaki 3 haneli sayılar deney numarasını(deneme sayısını) temsil etmektedir."
   ]
  },
  {
   "cell_type": "markdown",
   "id": "359464f4",
   "metadata": {},
   "source": [
    "# EEG Datasetindeki tar.gz Dosyalarının Listelenmesi"
   ]
  },
  {
   "cell_type": "markdown",
   "id": "fdcde313",
   "metadata": {},
   "source": [
    "**Denek 1: Alkolikler**"
   ]
  },
  {
   "cell_type": "code",
   "execution_count": 20,
   "id": "7c396f63",
   "metadata": {},
   "outputs": [
    {
     "name": "stdout",
     "output_type": "stream",
     "text": [
      "['co2a0000364', 'co2a0000365', 'co2a0000368', 'co2a0000369', 'co2a0000370', 'co2a0000371', 'co2a0000372', 'co2a0000375', 'co2a0000377', 'co2a0000378', 'co2a0000379', 'co2a0000380', 'co2a0000381', 'co2a0000382', 'co2a0000384', 'co2a0000385', 'co2a0000386', 'co2a0000387', 'co2a0000388', 'co2a0000390', 'co2a0000392', 'co2a0000394', 'co2a0000395', 'co2a0000396', 'co2a0000398', 'co2a0000400', 'co2a0000402', 'co2a0000403', 'co2a0000404', 'co2a0000405', 'co2a0000406', 'co2a0000407', 'co2a0000409', 'co2a0000410', 'co2a0000411', 'co2a0000412', 'co2a0000414', 'co2a0000415', 'co2a0000416', 'co2a0000417', 'co2a0000418', 'co2a0000419', 'co2a0000421', 'co2a0000422', 'co2a0000423', 'co2a0000424', 'co2a0000425', 'co2a0000426', 'co2a0000427', 'co2a0000428', 'co2a0000429', 'co2a0000430', 'co2a0000432', 'co2a0000433', 'co2a0000434', 'co2a0000435', 'co2a0000436', 'co2a0000437', 'co2a0000438', 'co2a0000439', 'co2a0000440', 'co2a0000443', 'co2a0000444', 'co2a0000445', 'co2a0000447', 'co3a0000448', 'co3a0000450', 'co3a0000451', 'co3a0000453', 'co3a0000454', 'co3a0000455', 'co3a0000456', 'co3a0000457', 'co3a0000458', 'co3a0000459', 'co3a0000460', 'co3a0000461']\n"
     ]
    }
   ],
   "source": [
    "file_names_a = os.listdir('C:/Users/bbari/OneDrive/Belgeler/eeg_database/extracted/a')\n",
    "print(file_names_a)"
   ]
  },
  {
   "cell_type": "markdown",
   "id": "f82fba75",
   "metadata": {},
   "source": [
    "**Denek 2: Kontroller**"
   ]
  },
  {
   "cell_type": "code",
   "execution_count": 21,
   "id": "4aba6c0a",
   "metadata": {},
   "outputs": [
    {
     "name": "stdout",
     "output_type": "stream",
     "text": [
      "['co2c0000337', 'co2c0000338', 'co2c0000339', 'co2c0000340', 'co2c0000341', 'co2c0000342', 'co2c0000344', 'co2c0000345', 'co2c0000346', 'co2c0000347', 'co2c0000348', 'co2c0000351', 'co2c0000352', 'co2c0000354', 'co2c0000355', 'co2c0000356', 'co2c0000357', 'co2c0000359', 'co2c0000362', 'co2c0000363', 'co2c0000364', 'co2c0000367', 'co2c0000370', 'co2c0000371', 'co2c0000373', 'co2c0000374', 'co2c0000378', 'co2c0000379', 'co2c0000381', 'co2c0000382', 'co2c0000383', 'co2c0000384', 'co2c0000387', 'co2c0000388', 'co2c0000389', 'co2c0000390', 'co2c0000391', 'co2c0000392', 'co2c0000393', 'co2c0000394', 'co2c0000395', 'co2c0000396', 'co2c0000397', 'co2c1000367', 'co3c0000402']\n"
     ]
    }
   ],
   "source": [
    "file_names_c = os.listdir('C:/Users/bbari/OneDrive/Belgeler/eeg_database/extracted/c')\n",
    "print(file_names_c)"
   ]
  },
  {
   "cell_type": "markdown",
   "id": "af2dcc63",
   "metadata": {},
   "source": [
    "Datasette toplam 77 alkolik ve 45 kontrol denek bulunmaktadır"
   ]
  },
  {
   "cell_type": "markdown",
   "id": "a42eaf9a",
   "metadata": {},
   "source": [
    "# Listelenen Datasetteki gz Uzantılı Datanın Extract İşlemi"
   ]
  },
  {
   "cell_type": "markdown",
   "id": "cc41579b",
   "metadata": {},
   "source": [
    "**Dosya Yollarının Tek Bir Listede Tutulması**"
   ]
  },
  {
   "cell_type": "code",
   "execution_count": 22,
   "id": "c604e3cb",
   "metadata": {},
   "outputs": [],
   "source": [
    "file_names_list=[]\n",
    "for file in file_names_a:\n",
    "    file_names_list.append(os.listdir('C:/Users/bbari/OneDrive/Belgeler/eeg_database/extracted/a/' + file))"
   ]
  },
  {
   "cell_type": "markdown",
   "id": "22db0dab",
   "metadata": {},
   "source": [
    "**Oluşturulan Listenin Boyutunu Bulma**"
   ]
  },
  {
   "cell_type": "code",
   "execution_count": 23,
   "id": "f5f8e8d8",
   "metadata": {},
   "outputs": [
    {
     "name": "stdout",
     "output_type": "stream",
     "text": [
      "7033\n"
     ]
    }
   ],
   "source": [
    "count=0\n",
    "for i in range(0,77):\n",
    "    count=count+len(file_names_list[i])\n",
    "print(count)"
   ]
  },
  {
   "cell_type": "code",
   "execution_count": 24,
   "id": "f58bcb91",
   "metadata": {},
   "outputs": [],
   "source": [
    "#dt1=pd.read_csv(\"C:/Users/bbari/Documents/eeg_database/extracted/a/co2a0000364/co2a0000364.rd.000.gz\",sep=\" \",skiprows=4)\n",
    "#dt1"
   ]
  },
  {
   "cell_type": "code",
   "execution_count": 25,
   "id": "b754e490",
   "metadata": {},
   "outputs": [
    {
     "data": {
      "text/html": [
       "<div>\n",
       "<style scoped>\n",
       "    .dataframe tbody tr th:only-of-type {\n",
       "        vertical-align: middle;\n",
       "    }\n",
       "\n",
       "    .dataframe tbody tr th {\n",
       "        vertical-align: top;\n",
       "    }\n",
       "\n",
       "    .dataframe thead th {\n",
       "        text-align: right;\n",
       "    }\n",
       "</style>\n",
       "<table border=\"1\" class=\"dataframe\">\n",
       "  <thead>\n",
       "    <tr style=\"text-align: right;\">\n",
       "      <th></th>\n",
       "      <th>#</th>\n",
       "      <th>FP1</th>\n",
       "      <th>chan</th>\n",
       "      <th>0</th>\n",
       "    </tr>\n",
       "  </thead>\n",
       "  <tbody>\n",
       "    <tr>\n",
       "      <th>0</th>\n",
       "      <td>0</td>\n",
       "      <td>FP1</td>\n",
       "      <td>0</td>\n",
       "      <td>-8.921</td>\n",
       "    </tr>\n",
       "    <tr>\n",
       "      <th>1</th>\n",
       "      <td>0</td>\n",
       "      <td>FP1</td>\n",
       "      <td>1</td>\n",
       "      <td>-8.433</td>\n",
       "    </tr>\n",
       "    <tr>\n",
       "      <th>2</th>\n",
       "      <td>0</td>\n",
       "      <td>FP1</td>\n",
       "      <td>2</td>\n",
       "      <td>-2.574</td>\n",
       "    </tr>\n",
       "    <tr>\n",
       "      <th>3</th>\n",
       "      <td>0</td>\n",
       "      <td>FP1</td>\n",
       "      <td>3</td>\n",
       "      <td>5.239</td>\n",
       "    </tr>\n",
       "    <tr>\n",
       "      <th>4</th>\n",
       "      <td>0</td>\n",
       "      <td>FP1</td>\n",
       "      <td>4</td>\n",
       "      <td>11.587</td>\n",
       "    </tr>\n",
       "    <tr>\n",
       "      <th>...</th>\n",
       "      <td>...</td>\n",
       "      <td>...</td>\n",
       "      <td>...</td>\n",
       "      <td>...</td>\n",
       "    </tr>\n",
       "    <tr>\n",
       "      <th>16442</th>\n",
       "      <td>119</td>\n",
       "      <td>Y</td>\n",
       "      <td>251</td>\n",
       "      <td>-9.145</td>\n",
       "    </tr>\n",
       "    <tr>\n",
       "      <th>16443</th>\n",
       "      <td>119</td>\n",
       "      <td>Y</td>\n",
       "      <td>252</td>\n",
       "      <td>-10.610</td>\n",
       "    </tr>\n",
       "    <tr>\n",
       "      <th>16444</th>\n",
       "      <td>119</td>\n",
       "      <td>Y</td>\n",
       "      <td>253</td>\n",
       "      <td>-8.657</td>\n",
       "    </tr>\n",
       "    <tr>\n",
       "      <th>16445</th>\n",
       "      <td>119</td>\n",
       "      <td>Y</td>\n",
       "      <td>254</td>\n",
       "      <td>-4.751</td>\n",
       "    </tr>\n",
       "    <tr>\n",
       "      <th>16446</th>\n",
       "      <td>119</td>\n",
       "      <td>Y</td>\n",
       "      <td>255</td>\n",
       "      <td>-0.844</td>\n",
       "    </tr>\n",
       "  </tbody>\n",
       "</table>\n",
       "<p>1447336 rows × 4 columns</p>\n",
       "</div>"
      ],
      "text/plain": [
       "         #  FP1 chan       0\n",
       "0        0  FP1    0  -8.921\n",
       "1        0  FP1    1  -8.433\n",
       "2        0  FP1    2  -2.574\n",
       "3        0  FP1    3   5.239\n",
       "4        0  FP1    4  11.587\n",
       "...    ...  ...  ...     ...\n",
       "16442  119    Y  251  -9.145\n",
       "16443  119    Y  252 -10.610\n",
       "16444  119    Y  253  -8.657\n",
       "16445  119    Y  254  -4.751\n",
       "16446  119    Y  255  -0.844\n",
       "\n",
       "[1447336 rows x 4 columns]"
      ]
     },
     "execution_count": 25,
     "metadata": {},
     "output_type": "execute_result"
    }
   ],
   "source": [
    "dt1 = pd.DataFrame()\n",
    "dt2 = pd.DataFrame()\n",
    "for i in range(0,88):\n",
    "    #filename=\"C:/Users/bbari/OneDrive/Belgeler/eeg_database/extracted/a/\" + str(file_names_a[i]) + '/' + str(file_names_list[i][j])\n",
    "    filename='C:/Users/bbari/OneDrive/Belgeler/eeg_database/extracted/a/co2a0000364/' + str(file_names_list[0][i])\n",
    "    with gzip.open(filename, 'rt') as f:\n",
    "        dt1=pd.read_csv(f.name,sep=\" \",skiprows=4)\n",
    "        dt2=pd.concat([dt2,dt1])\n",
    "dt2"
   ]
  },
  {
   "cell_type": "code",
   "execution_count": 26,
   "id": "47b07d22",
   "metadata": {},
   "outputs": [
    {
     "data": {
      "text/plain": [
       "Int64Index([  256,   513,   770,  1027,  1284,  1541,  1798,  2055,  2312,\n",
       "             2569,\n",
       "            ...\n",
       "            13877, 14134, 14391, 14648, 14905, 15162, 15419, 15676, 15933,\n",
       "            16190],\n",
       "           dtype='int64', length=5544)"
      ]
     },
     "execution_count": 26,
     "metadata": {},
     "output_type": "execute_result"
    }
   ],
   "source": [
    "i = dt2[(dt2[\"#\"] == '#')].index\n",
    "i"
   ]
  },
  {
   "cell_type": "code",
   "execution_count": 27,
   "id": "6f779f2f",
   "metadata": {},
   "outputs": [
    {
     "data": {
      "text/html": [
       "<div>\n",
       "<style scoped>\n",
       "    .dataframe tbody tr th:only-of-type {\n",
       "        vertical-align: middle;\n",
       "    }\n",
       "\n",
       "    .dataframe tbody tr th {\n",
       "        vertical-align: top;\n",
       "    }\n",
       "\n",
       "    .dataframe thead th {\n",
       "        text-align: right;\n",
       "    }\n",
       "</style>\n",
       "<table border=\"1\" class=\"dataframe\">\n",
       "  <thead>\n",
       "    <tr style=\"text-align: right;\">\n",
       "      <th></th>\n",
       "      <th>#</th>\n",
       "      <th>FP1</th>\n",
       "      <th>chan</th>\n",
       "      <th>0</th>\n",
       "    </tr>\n",
       "  </thead>\n",
       "  <tbody>\n",
       "    <tr>\n",
       "      <th>0</th>\n",
       "      <td>0</td>\n",
       "      <td>FP1</td>\n",
       "      <td>0</td>\n",
       "      <td>-8.921</td>\n",
       "    </tr>\n",
       "    <tr>\n",
       "      <th>1</th>\n",
       "      <td>0</td>\n",
       "      <td>FP1</td>\n",
       "      <td>1</td>\n",
       "      <td>-8.433</td>\n",
       "    </tr>\n",
       "    <tr>\n",
       "      <th>2</th>\n",
       "      <td>0</td>\n",
       "      <td>FP1</td>\n",
       "      <td>2</td>\n",
       "      <td>-2.574</td>\n",
       "    </tr>\n",
       "    <tr>\n",
       "      <th>3</th>\n",
       "      <td>0</td>\n",
       "      <td>FP1</td>\n",
       "      <td>3</td>\n",
       "      <td>5.239</td>\n",
       "    </tr>\n",
       "    <tr>\n",
       "      <th>4</th>\n",
       "      <td>0</td>\n",
       "      <td>FP1</td>\n",
       "      <td>4</td>\n",
       "      <td>11.587</td>\n",
       "    </tr>\n",
       "    <tr>\n",
       "      <th>...</th>\n",
       "      <td>...</td>\n",
       "      <td>...</td>\n",
       "      <td>...</td>\n",
       "      <td>...</td>\n",
       "    </tr>\n",
       "    <tr>\n",
       "      <th>16442</th>\n",
       "      <td>119</td>\n",
       "      <td>Y</td>\n",
       "      <td>251</td>\n",
       "      <td>-9.145</td>\n",
       "    </tr>\n",
       "    <tr>\n",
       "      <th>16443</th>\n",
       "      <td>119</td>\n",
       "      <td>Y</td>\n",
       "      <td>252</td>\n",
       "      <td>-10.610</td>\n",
       "    </tr>\n",
       "    <tr>\n",
       "      <th>16444</th>\n",
       "      <td>119</td>\n",
       "      <td>Y</td>\n",
       "      <td>253</td>\n",
       "      <td>-8.657</td>\n",
       "    </tr>\n",
       "    <tr>\n",
       "      <th>16445</th>\n",
       "      <td>119</td>\n",
       "      <td>Y</td>\n",
       "      <td>254</td>\n",
       "      <td>-4.751</td>\n",
       "    </tr>\n",
       "    <tr>\n",
       "      <th>16446</th>\n",
       "      <td>119</td>\n",
       "      <td>Y</td>\n",
       "      <td>255</td>\n",
       "      <td>-0.844</td>\n",
       "    </tr>\n",
       "  </tbody>\n",
       "</table>\n",
       "<p>1441792 rows × 4 columns</p>\n",
       "</div>"
      ],
      "text/plain": [
       "         #  FP1 chan       0\n",
       "0        0  FP1    0  -8.921\n",
       "1        0  FP1    1  -8.433\n",
       "2        0  FP1    2  -2.574\n",
       "3        0  FP1    3   5.239\n",
       "4        0  FP1    4  11.587\n",
       "...    ...  ...  ...     ...\n",
       "16442  119    Y  251  -9.145\n",
       "16443  119    Y  252 -10.610\n",
       "16444  119    Y  253  -8.657\n",
       "16445  119    Y  254  -4.751\n",
       "16446  119    Y  255  -0.844\n",
       "\n",
       "[1441792 rows x 4 columns]"
      ]
     },
     "execution_count": 27,
     "metadata": {},
     "output_type": "execute_result"
    }
   ],
   "source": [
    "dt2=dt2.drop(i)\n",
    "dt2"
   ]
  },
  {
   "cell_type": "code",
   "execution_count": 28,
   "id": "dfc05d63",
   "metadata": {},
   "outputs": [
    {
     "data": {
      "text/html": [
       "<div>\n",
       "<style scoped>\n",
       "    .dataframe tbody tr th:only-of-type {\n",
       "        vertical-align: middle;\n",
       "    }\n",
       "\n",
       "    .dataframe tbody tr th {\n",
       "        vertical-align: top;\n",
       "    }\n",
       "\n",
       "    .dataframe thead th {\n",
       "        text-align: right;\n",
       "    }\n",
       "</style>\n",
       "<table border=\"1\" class=\"dataframe\">\n",
       "  <thead>\n",
       "    <tr style=\"text-align: right;\">\n",
       "      <th></th>\n",
       "      <th>deney_num</th>\n",
       "      <th>kanal_adı</th>\n",
       "      <th>timestamp</th>\n",
       "      <th>voltaj(mV)</th>\n",
       "    </tr>\n",
       "  </thead>\n",
       "  <tbody>\n",
       "    <tr>\n",
       "      <th>0</th>\n",
       "      <td>0</td>\n",
       "      <td>FP1</td>\n",
       "      <td>0</td>\n",
       "      <td>-8.921</td>\n",
       "    </tr>\n",
       "    <tr>\n",
       "      <th>5654</th>\n",
       "      <td>44</td>\n",
       "      <td>P3</td>\n",
       "      <td>0</td>\n",
       "      <td>-2.665</td>\n",
       "    </tr>\n",
       "    <tr>\n",
       "      <th>12850</th>\n",
       "      <td>101</td>\n",
       "      <td>P5</td>\n",
       "      <td>0</td>\n",
       "      <td>-0.488</td>\n",
       "    </tr>\n",
       "    <tr>\n",
       "      <th>5911</th>\n",
       "      <td>44</td>\n",
       "      <td>P4</td>\n",
       "      <td>0</td>\n",
       "      <td>-0.621</td>\n",
       "    </tr>\n",
       "    <tr>\n",
       "      <th>6168</th>\n",
       "      <td>44</td>\n",
       "      <td>PZ</td>\n",
       "      <td>0</td>\n",
       "      <td>-2.238</td>\n",
       "    </tr>\n",
       "    <tr>\n",
       "      <th>...</th>\n",
       "      <td>...</td>\n",
       "      <td>...</td>\n",
       "      <td>...</td>\n",
       "      <td>...</td>\n",
       "    </tr>\n",
       "    <tr>\n",
       "      <th>2155</th>\n",
       "      <td>34</td>\n",
       "      <td>F3</td>\n",
       "      <td>99</td>\n",
       "      <td>5.320</td>\n",
       "    </tr>\n",
       "    <tr>\n",
       "      <th>12949</th>\n",
       "      <td>97</td>\n",
       "      <td>P5</td>\n",
       "      <td>99</td>\n",
       "      <td>-5.564</td>\n",
       "    </tr>\n",
       "    <tr>\n",
       "      <th>12178</th>\n",
       "      <td>39</td>\n",
       "      <td>AFZ</td>\n",
       "      <td>99</td>\n",
       "      <td>4.710</td>\n",
       "    </tr>\n",
       "    <tr>\n",
       "      <th>2669</th>\n",
       "      <td>91</td>\n",
       "      <td>FC5</td>\n",
       "      <td>99</td>\n",
       "      <td>-3.805</td>\n",
       "    </tr>\n",
       "    <tr>\n",
       "      <th>14491</th>\n",
       "      <td>20</td>\n",
       "      <td>FCZ</td>\n",
       "      <td>99</td>\n",
       "      <td>-1.994</td>\n",
       "    </tr>\n",
       "  </tbody>\n",
       "</table>\n",
       "<p>1441792 rows × 4 columns</p>\n",
       "</div>"
      ],
      "text/plain": [
       "      deney_num kanal_adı timestamp  voltaj(mV)\n",
       "0             0       FP1         0      -8.921\n",
       "5654         44        P3         0      -2.665\n",
       "12850       101        P5         0      -0.488\n",
       "5911         44        P4         0      -0.621\n",
       "6168         44        PZ         0      -2.238\n",
       "...         ...       ...       ...         ...\n",
       "2155         34        F3        99       5.320\n",
       "12949        97        P5        99      -5.564\n",
       "12178        39       AFZ        99       4.710\n",
       "2669         91       FC5        99      -3.805\n",
       "14491        20       FCZ        99      -1.994\n",
       "\n",
       "[1441792 rows x 4 columns]"
      ]
     },
     "execution_count": 28,
     "metadata": {},
     "output_type": "execute_result"
    }
   ],
   "source": [
    "dt2.columns = ['deney_num', 'kanal_adı', 'timestamp','voltaj(mV)']\n",
    "dt2=dt2.sort_values(by=\"timestamp\") #timestamp,deney_num to int 0,0 0,1 0,2\n",
    "dt2"
   ]
  },
  {
   "cell_type": "code",
   "execution_count": 29,
   "id": "a5606205",
   "metadata": {},
   "outputs": [],
   "source": [
    "dt2[\"timestamp\"]=pd.to_numeric(dt2[\"timestamp\"])\n",
    "dt2[\"deney_num\"]=pd.to_numeric(dt2[\"deney_num\"])"
   ]
  },
  {
   "cell_type": "code",
   "execution_count": 30,
   "id": "370ba5cd",
   "metadata": {},
   "outputs": [
    {
     "data": {
      "text/html": [
       "<div>\n",
       "<style scoped>\n",
       "    .dataframe tbody tr th:only-of-type {\n",
       "        vertical-align: middle;\n",
       "    }\n",
       "\n",
       "    .dataframe tbody tr th {\n",
       "        vertical-align: top;\n",
       "    }\n",
       "\n",
       "    .dataframe thead th {\n",
       "        text-align: right;\n",
       "    }\n",
       "</style>\n",
       "<table border=\"1\" class=\"dataframe\">\n",
       "  <thead>\n",
       "    <tr style=\"text-align: right;\">\n",
       "      <th></th>\n",
       "      <th>deney_num</th>\n",
       "      <th>kanal_adı</th>\n",
       "      <th>timestamp</th>\n",
       "      <th>voltaj(mV)</th>\n",
       "    </tr>\n",
       "  </thead>\n",
       "  <tbody>\n",
       "    <tr>\n",
       "      <th>1028</th>\n",
       "      <td>0</td>\n",
       "      <td>AF1</td>\n",
       "      <td>0</td>\n",
       "      <td>-2.146</td>\n",
       "    </tr>\n",
       "    <tr>\n",
       "      <th>1285</th>\n",
       "      <td>0</td>\n",
       "      <td>AF2</td>\n",
       "      <td>0</td>\n",
       "      <td>1.129</td>\n",
       "    </tr>\n",
       "    <tr>\n",
       "      <th>8224</th>\n",
       "      <td>0</td>\n",
       "      <td>AF7</td>\n",
       "      <td>0</td>\n",
       "      <td>-16.856</td>\n",
       "    </tr>\n",
       "    <tr>\n",
       "      <th>8481</th>\n",
       "      <td>0</td>\n",
       "      <td>AF8</td>\n",
       "      <td>0</td>\n",
       "      <td>-10.020</td>\n",
       "    </tr>\n",
       "    <tr>\n",
       "      <th>12079</th>\n",
       "      <td>0</td>\n",
       "      <td>AFZ</td>\n",
       "      <td>0</td>\n",
       "      <td>-0.987</td>\n",
       "    </tr>\n",
       "    <tr>\n",
       "      <th>...</th>\n",
       "      <td>...</td>\n",
       "      <td>...</td>\n",
       "      <td>...</td>\n",
       "      <td>...</td>\n",
       "    </tr>\n",
       "    <tr>\n",
       "      <th>12077</th>\n",
       "      <td>119</td>\n",
       "      <td>TP7</td>\n",
       "      <td>255</td>\n",
       "      <td>-4.934</td>\n",
       "    </tr>\n",
       "    <tr>\n",
       "      <th>11820</th>\n",
       "      <td>119</td>\n",
       "      <td>TP8</td>\n",
       "      <td>255</td>\n",
       "      <td>-10.427</td>\n",
       "    </tr>\n",
       "    <tr>\n",
       "      <th>8222</th>\n",
       "      <td>119</td>\n",
       "      <td>X</td>\n",
       "      <td>255</td>\n",
       "      <td>-10.661</td>\n",
       "    </tr>\n",
       "    <tr>\n",
       "      <th>16446</th>\n",
       "      <td>119</td>\n",
       "      <td>Y</td>\n",
       "      <td>255</td>\n",
       "      <td>-0.844</td>\n",
       "    </tr>\n",
       "    <tr>\n",
       "      <th>16189</th>\n",
       "      <td>119</td>\n",
       "      <td>nd</td>\n",
       "      <td>255</td>\n",
       "      <td>-4.018</td>\n",
       "    </tr>\n",
       "  </tbody>\n",
       "</table>\n",
       "<p>1441792 rows × 4 columns</p>\n",
       "</div>"
      ],
      "text/plain": [
       "       deney_num kanal_adı  timestamp  voltaj(mV)\n",
       "1028           0       AF1          0      -2.146\n",
       "1285           0       AF2          0       1.129\n",
       "8224           0       AF7          0     -16.856\n",
       "8481           0       AF8          0     -10.020\n",
       "12079          0       AFZ          0      -0.987\n",
       "...          ...       ...        ...         ...\n",
       "12077        119       TP7        255      -4.934\n",
       "11820        119       TP8        255     -10.427\n",
       "8222         119         X        255     -10.661\n",
       "16446        119         Y        255      -0.844\n",
       "16189        119        nd        255      -4.018\n",
       "\n",
       "[1441792 rows x 4 columns]"
      ]
     },
     "execution_count": 30,
     "metadata": {},
     "output_type": "execute_result"
    }
   ],
   "source": [
    "dt2=dt2.sort_values(by=[\"deney_num\",\"timestamp\",\"kanal_adı\"])\n",
    "dt2"
   ]
  },
  {
   "cell_type": "code",
   "execution_count": 31,
   "id": "18b96def",
   "metadata": {},
   "outputs": [
    {
     "data": {
      "text/plain": [
       "array([[ -2.146,   1.129, -16.856, ...,  -5.269,  -5.636,  -8.901],\n",
       "       [ -2.146,   0.641,  -7.09 , ...,  -5.758,  -2.706,  -7.924],\n",
       "       [ -1.658,  -0.336,   7.558, ...,  -2.828,   1.689,  -3.042],\n",
       "       ...,\n",
       "       [ -7.65 ,  -7.202,  -6.938, ..., -15.055,  -8.657,  -8.413],\n",
       "       [ -3.743,  -5.737,  -4.496, ..., -12.614,  -4.751,  -4.995],\n",
       "       [ -2.279,  -5.249,  -4.008, ..., -10.661,  -0.844,  -4.018]])"
      ]
     },
     "execution_count": 31,
     "metadata": {},
     "output_type": "execute_result"
    }
   ],
   "source": [
    "aa=dt2[\"voltaj(mV)\"].to_numpy()\n",
    "aa=aa.reshape((aa.shape[0]//64,64))\n",
    "aa"
   ]
  },
  {
   "cell_type": "code",
   "execution_count": 32,
   "id": "592720a8",
   "metadata": {},
   "outputs": [
    {
     "data": {
      "text/html": [
       "<div>\n",
       "<style scoped>\n",
       "    .dataframe tbody tr th:only-of-type {\n",
       "        vertical-align: middle;\n",
       "    }\n",
       "\n",
       "    .dataframe tbody tr th {\n",
       "        vertical-align: top;\n",
       "    }\n",
       "\n",
       "    .dataframe thead th {\n",
       "        text-align: right;\n",
       "    }\n",
       "</style>\n",
       "<table border=\"1\" class=\"dataframe\">\n",
       "  <thead>\n",
       "    <tr style=\"text-align: right;\">\n",
       "      <th></th>\n",
       "      <th>AF1</th>\n",
       "      <th>AF2</th>\n",
       "      <th>AF7</th>\n",
       "      <th>AF8</th>\n",
       "      <th>AFZ</th>\n",
       "      <th>C1</th>\n",
       "      <th>C2</th>\n",
       "      <th>C3</th>\n",
       "      <th>C4</th>\n",
       "      <th>C5</th>\n",
       "      <th>...</th>\n",
       "      <th>PO8</th>\n",
       "      <th>POZ</th>\n",
       "      <th>PZ</th>\n",
       "      <th>T7</th>\n",
       "      <th>T8</th>\n",
       "      <th>TP7</th>\n",
       "      <th>TP8</th>\n",
       "      <th>X</th>\n",
       "      <th>Y</th>\n",
       "      <th>nd</th>\n",
       "    </tr>\n",
       "  </thead>\n",
       "  <tbody>\n",
       "    <tr>\n",
       "      <th>0</th>\n",
       "      <td>-2.146</td>\n",
       "      <td>1.129</td>\n",
       "      <td>-16.856</td>\n",
       "      <td>-10.020</td>\n",
       "      <td>-0.987</td>\n",
       "      <td>-1.129</td>\n",
       "      <td>2.747</td>\n",
       "      <td>-2.716</td>\n",
       "      <td>-0.926</td>\n",
       "      <td>-8.586</td>\n",
       "      <td>...</td>\n",
       "      <td>5.157</td>\n",
       "      <td>-6.266</td>\n",
       "      <td>-2.797</td>\n",
       "      <td>-6.805</td>\n",
       "      <td>-3.886</td>\n",
       "      <td>-9.338</td>\n",
       "      <td>-3.082</td>\n",
       "      <td>-5.269</td>\n",
       "      <td>-5.636</td>\n",
       "      <td>-8.901</td>\n",
       "    </tr>\n",
       "    <tr>\n",
       "      <th>1</th>\n",
       "      <td>-2.146</td>\n",
       "      <td>0.641</td>\n",
       "      <td>-7.090</td>\n",
       "      <td>-7.090</td>\n",
       "      <td>-1.475</td>\n",
       "      <td>-1.617</td>\n",
       "      <td>-1.160</td>\n",
       "      <td>-3.204</td>\n",
       "      <td>-2.879</td>\n",
       "      <td>-11.515</td>\n",
       "      <td>...</td>\n",
       "      <td>7.111</td>\n",
       "      <td>-8.708</td>\n",
       "      <td>-4.262</td>\n",
       "      <td>-9.247</td>\n",
       "      <td>-5.839</td>\n",
       "      <td>-12.268</td>\n",
       "      <td>-4.059</td>\n",
       "      <td>-5.758</td>\n",
       "      <td>-2.706</td>\n",
       "      <td>-7.924</td>\n",
       "    </tr>\n",
       "    <tr>\n",
       "      <th>2</th>\n",
       "      <td>-1.658</td>\n",
       "      <td>-0.336</td>\n",
       "      <td>7.558</td>\n",
       "      <td>1.211</td>\n",
       "      <td>-0.987</td>\n",
       "      <td>0.336</td>\n",
       "      <td>0.305</td>\n",
       "      <td>1.678</td>\n",
       "      <td>2.492</td>\n",
       "      <td>-11.027</td>\n",
       "      <td>...</td>\n",
       "      <td>-2.655</td>\n",
       "      <td>-9.196</td>\n",
       "      <td>-4.262</td>\n",
       "      <td>-8.270</td>\n",
       "      <td>-4.374</td>\n",
       "      <td>-8.850</td>\n",
       "      <td>-3.571</td>\n",
       "      <td>-2.828</td>\n",
       "      <td>1.689</td>\n",
       "      <td>-3.042</td>\n",
       "    </tr>\n",
       "    <tr>\n",
       "      <th>3</th>\n",
       "      <td>-0.682</td>\n",
       "      <td>-0.824</td>\n",
       "      <td>19.277</td>\n",
       "      <td>10.488</td>\n",
       "      <td>-0.010</td>\n",
       "      <td>0.824</td>\n",
       "      <td>0.305</td>\n",
       "      <td>-0.275</td>\n",
       "      <td>2.981</td>\n",
       "      <td>-6.632</td>\n",
       "      <td>...</td>\n",
       "      <td>-7.050</td>\n",
       "      <td>-6.755</td>\n",
       "      <td>-2.797</td>\n",
       "      <td>-3.876</td>\n",
       "      <td>0.020</td>\n",
       "      <td>-1.526</td>\n",
       "      <td>-1.129</td>\n",
       "      <td>1.567</td>\n",
       "      <td>5.595</td>\n",
       "      <td>4.771</td>\n",
       "    </tr>\n",
       "    <tr>\n",
       "      <th>4</th>\n",
       "      <td>2.248</td>\n",
       "      <td>0.641</td>\n",
       "      <td>23.183</td>\n",
       "      <td>13.906</td>\n",
       "      <td>2.431</td>\n",
       "      <td>2.777</td>\n",
       "      <td>2.258</td>\n",
       "      <td>4.608</td>\n",
       "      <td>5.910</td>\n",
       "      <td>1.180</td>\n",
       "      <td>...</td>\n",
       "      <td>-4.120</td>\n",
       "      <td>-3.337</td>\n",
       "      <td>-0.844</td>\n",
       "      <td>1.495</td>\n",
       "      <td>4.415</td>\n",
       "      <td>4.822</td>\n",
       "      <td>2.777</td>\n",
       "      <td>5.961</td>\n",
       "      <td>9.013</td>\n",
       "      <td>11.607</td>\n",
       "    </tr>\n",
       "    <tr>\n",
       "      <th>...</th>\n",
       "      <td>...</td>\n",
       "      <td>...</td>\n",
       "      <td>...</td>\n",
       "      <td>...</td>\n",
       "      <td>...</td>\n",
       "      <td>...</td>\n",
       "      <td>...</td>\n",
       "      <td>...</td>\n",
       "      <td>...</td>\n",
       "      <td>...</td>\n",
       "      <td>...</td>\n",
       "      <td>...</td>\n",
       "      <td>...</td>\n",
       "      <td>...</td>\n",
       "      <td>...</td>\n",
       "      <td>...</td>\n",
       "      <td>...</td>\n",
       "      <td>...</td>\n",
       "      <td>...</td>\n",
       "      <td>...</td>\n",
       "      <td>...</td>\n",
       "    </tr>\n",
       "    <tr>\n",
       "      <th>22523</th>\n",
       "      <td>-12.533</td>\n",
       "      <td>-6.714</td>\n",
       "      <td>-8.403</td>\n",
       "      <td>-4.140</td>\n",
       "      <td>-9.033</td>\n",
       "      <td>0.264</td>\n",
       "      <td>-1.648</td>\n",
       "      <td>-2.716</td>\n",
       "      <td>-5.768</td>\n",
       "      <td>-8.921</td>\n",
       "      <td>...</td>\n",
       "      <td>-3.998</td>\n",
       "      <td>1.851</td>\n",
       "      <td>1.719</td>\n",
       "      <td>2.696</td>\n",
       "      <td>3.784</td>\n",
       "      <td>-3.469</td>\n",
       "      <td>-0.661</td>\n",
       "      <td>-13.102</td>\n",
       "      <td>-9.145</td>\n",
       "      <td>-13.295</td>\n",
       "    </tr>\n",
       "    <tr>\n",
       "      <th>22524</th>\n",
       "      <td>-11.068</td>\n",
       "      <td>-7.690</td>\n",
       "      <td>-8.403</td>\n",
       "      <td>-9.023</td>\n",
       "      <td>-9.521</td>\n",
       "      <td>-0.712</td>\n",
       "      <td>-1.160</td>\n",
       "      <td>-0.763</td>\n",
       "      <td>-3.326</td>\n",
       "      <td>-6.480</td>\n",
       "      <td>...</td>\n",
       "      <td>2.838</td>\n",
       "      <td>-0.102</td>\n",
       "      <td>0.743</td>\n",
       "      <td>2.696</td>\n",
       "      <td>-1.587</td>\n",
       "      <td>-3.469</td>\n",
       "      <td>-4.567</td>\n",
       "      <td>-15.055</td>\n",
       "      <td>-10.610</td>\n",
       "      <td>-11.342</td>\n",
       "    </tr>\n",
       "    <tr>\n",
       "      <th>22525</th>\n",
       "      <td>-7.650</td>\n",
       "      <td>-7.202</td>\n",
       "      <td>-6.938</td>\n",
       "      <td>-11.464</td>\n",
       "      <td>-7.568</td>\n",
       "      <td>-2.177</td>\n",
       "      <td>1.770</td>\n",
       "      <td>-3.693</td>\n",
       "      <td>3.510</td>\n",
       "      <td>-0.621</td>\n",
       "      <td>...</td>\n",
       "      <td>4.303</td>\n",
       "      <td>-1.567</td>\n",
       "      <td>0.254</td>\n",
       "      <td>0.254</td>\n",
       "      <td>-10.864</td>\n",
       "      <td>-3.957</td>\n",
       "      <td>-8.962</td>\n",
       "      <td>-15.055</td>\n",
       "      <td>-8.657</td>\n",
       "      <td>-8.413</td>\n",
       "    </tr>\n",
       "    <tr>\n",
       "      <th>22526</th>\n",
       "      <td>-3.743</td>\n",
       "      <td>-5.737</td>\n",
       "      <td>-4.496</td>\n",
       "      <td>-12.441</td>\n",
       "      <td>-5.127</td>\n",
       "      <td>-2.665</td>\n",
       "      <td>2.258</td>\n",
       "      <td>-3.693</td>\n",
       "      <td>5.463</td>\n",
       "      <td>4.262</td>\n",
       "      <td>...</td>\n",
       "      <td>9.674</td>\n",
       "      <td>-1.567</td>\n",
       "      <td>-0.234</td>\n",
       "      <td>-4.628</td>\n",
       "      <td>-15.747</td>\n",
       "      <td>-4.445</td>\n",
       "      <td>-11.403</td>\n",
       "      <td>-12.614</td>\n",
       "      <td>-4.751</td>\n",
       "      <td>-4.995</td>\n",
       "    </tr>\n",
       "    <tr>\n",
       "      <th>22527</th>\n",
       "      <td>-2.279</td>\n",
       "      <td>-5.249</td>\n",
       "      <td>-4.008</td>\n",
       "      <td>-13.906</td>\n",
       "      <td>-3.662</td>\n",
       "      <td>-3.153</td>\n",
       "      <td>-0.183</td>\n",
       "      <td>-4.181</td>\n",
       "      <td>-2.838</td>\n",
       "      <td>4.751</td>\n",
       "      <td>...</td>\n",
       "      <td>3.815</td>\n",
       "      <td>-1.078</td>\n",
       "      <td>-0.722</td>\n",
       "      <td>-8.046</td>\n",
       "      <td>-12.817</td>\n",
       "      <td>-4.934</td>\n",
       "      <td>-10.427</td>\n",
       "      <td>-10.661</td>\n",
       "      <td>-0.844</td>\n",
       "      <td>-4.018</td>\n",
       "    </tr>\n",
       "  </tbody>\n",
       "</table>\n",
       "<p>22528 rows × 64 columns</p>\n",
       "</div>"
      ],
      "text/plain": [
       "          AF1    AF2     AF7     AF8    AFZ     C1     C2     C3     C4  \\\n",
       "0      -2.146  1.129 -16.856 -10.020 -0.987 -1.129  2.747 -2.716 -0.926   \n",
       "1      -2.146  0.641  -7.090  -7.090 -1.475 -1.617 -1.160 -3.204 -2.879   \n",
       "2      -1.658 -0.336   7.558   1.211 -0.987  0.336  0.305  1.678  2.492   \n",
       "3      -0.682 -0.824  19.277  10.488 -0.010  0.824  0.305 -0.275  2.981   \n",
       "4       2.248  0.641  23.183  13.906  2.431  2.777  2.258  4.608  5.910   \n",
       "...       ...    ...     ...     ...    ...    ...    ...    ...    ...   \n",
       "22523 -12.533 -6.714  -8.403  -4.140 -9.033  0.264 -1.648 -2.716 -5.768   \n",
       "22524 -11.068 -7.690  -8.403  -9.023 -9.521 -0.712 -1.160 -0.763 -3.326   \n",
       "22525  -7.650 -7.202  -6.938 -11.464 -7.568 -2.177  1.770 -3.693  3.510   \n",
       "22526  -3.743 -5.737  -4.496 -12.441 -5.127 -2.665  2.258 -3.693  5.463   \n",
       "22527  -2.279 -5.249  -4.008 -13.906 -3.662 -3.153 -0.183 -4.181 -2.838   \n",
       "\n",
       "           C5  ...    PO8    POZ     PZ     T7      T8     TP7     TP8  \\\n",
       "0      -8.586  ...  5.157 -6.266 -2.797 -6.805  -3.886  -9.338  -3.082   \n",
       "1     -11.515  ...  7.111 -8.708 -4.262 -9.247  -5.839 -12.268  -4.059   \n",
       "2     -11.027  ... -2.655 -9.196 -4.262 -8.270  -4.374  -8.850  -3.571   \n",
       "3      -6.632  ... -7.050 -6.755 -2.797 -3.876   0.020  -1.526  -1.129   \n",
       "4       1.180  ... -4.120 -3.337 -0.844  1.495   4.415   4.822   2.777   \n",
       "...       ...  ...    ...    ...    ...    ...     ...     ...     ...   \n",
       "22523  -8.921  ... -3.998  1.851  1.719  2.696   3.784  -3.469  -0.661   \n",
       "22524  -6.480  ...  2.838 -0.102  0.743  2.696  -1.587  -3.469  -4.567   \n",
       "22525  -0.621  ...  4.303 -1.567  0.254  0.254 -10.864  -3.957  -8.962   \n",
       "22526   4.262  ...  9.674 -1.567 -0.234 -4.628 -15.747  -4.445 -11.403   \n",
       "22527   4.751  ...  3.815 -1.078 -0.722 -8.046 -12.817  -4.934 -10.427   \n",
       "\n",
       "            X       Y      nd  \n",
       "0      -5.269  -5.636  -8.901  \n",
       "1      -5.758  -2.706  -7.924  \n",
       "2      -2.828   1.689  -3.042  \n",
       "3       1.567   5.595   4.771  \n",
       "4       5.961   9.013  11.607  \n",
       "...       ...     ...     ...  \n",
       "22523 -13.102  -9.145 -13.295  \n",
       "22524 -15.055 -10.610 -11.342  \n",
       "22525 -15.055  -8.657  -8.413  \n",
       "22526 -12.614  -4.751  -4.995  \n",
       "22527 -10.661  -0.844  -4.018  \n",
       "\n",
       "[22528 rows x 64 columns]"
      ]
     },
     "execution_count": 32,
     "metadata": {},
     "output_type": "execute_result"
    }
   ],
   "source": [
    "dt3=pd.DataFrame(aa,columns=sorted(dt2[\"kanal_adı\"].unique()))\n",
    "dt3"
   ]
  },
  {
   "cell_type": "code",
   "execution_count": 33,
   "id": "1dda674c",
   "metadata": {},
   "outputs": [],
   "source": [
    "#file_path = 'C:/Users/bbari/OneDrive/Belgeler/DenemeExcel.xlsx'  #export as excel file\n",
    "#dt2.head(1000000).to_excel(file_path, index=False)\n",
    "#count=dt2[\"kanal_adı\"].value_counts()\n",
    "#count.sort_values(ascending=True)"
   ]
  },
  {
   "cell_type": "code",
   "execution_count": 35,
   "id": "c22ca04b",
   "metadata": {},
   "outputs": [
    {
     "name": "stdout",
     "output_type": "stream",
     "text": [
      "[6.20839741e-01 1.45905200e-01 4.29659661e-02 2.99023745e-02\n",
      " 2.35172933e-02 1.73218431e-02 1.48122375e-02 1.09482707e-02\n",
      " 9.72834809e-03 8.92453359e-03 8.59581435e-03 7.73247166e-03\n",
      " 5.74869200e-03 5.25838579e-03 4.94878797e-03 4.39782077e-03\n",
      " 3.14774415e-03 3.13588156e-03 2.87392332e-03 2.75691145e-03\n",
      " 2.48985513e-03 2.25456348e-03 2.09817847e-03 2.04805783e-03\n",
      " 1.89325691e-03 1.86254381e-03 1.47525293e-03 1.37031629e-03\n",
      " 1.21421373e-03 1.04247471e-03 9.40151569e-04 9.11218443e-04\n",
      " 8.15622068e-04 7.62320229e-04 6.56096678e-04 6.04763151e-04\n",
      " 5.00255464e-04 4.31904378e-04 4.00185624e-04 3.65420037e-04\n",
      " 3.03968044e-04 2.62923889e-04 2.15215666e-04 1.93390919e-04\n",
      " 1.77287085e-04 1.60666823e-04 1.46459070e-04 1.27492230e-04\n",
      " 1.12464263e-04 8.72733786e-05 8.49508012e-05 7.96621003e-05\n",
      " 6.71945372e-05 5.69472437e-05 5.04209814e-05 4.60297059e-05\n",
      " 4.16846955e-05 3.56726093e-05 3.40201605e-05 3.36084671e-05\n",
      " 2.88403870e-05 2.36188892e-05 1.82343211e-05 1.30823015e-05]\n"
     ]
    }
   ],
   "source": [
    "from sklearn.decomposition import PCA\n",
    "pca_v1 = PCA(n_components=None, random_state=0)\n",
    "pca_v1.fit_transform(dt3)\n",
    "print(pca_v1.explained_variance_ratio_)"
   ]
  },
  {
   "cell_type": "code",
   "execution_count": 38,
   "id": "cf3d29e5",
   "metadata": {},
   "outputs": [
    {
     "name": "stdout",
     "output_type": "stream",
     "text": [
      "%76.67\n"
     ]
    }
   ],
   "source": [
    "pca_v2=PCA(n_components=2)\n",
    "data=pca_v2.fit_transform(dt3)\n",
    "print(f'%{round(sum(pca_v2.explained_variance_ratio_) * 100,2)}')"
   ]
  },
  {
   "cell_type": "code",
   "execution_count": 39,
   "id": "b68664de",
   "metadata": {},
   "outputs": [
    {
     "data": {
      "text/plain": [
       "array([[-21.56013501,   3.97338743],\n",
       "       [-16.69209747,   5.66080951],\n",
       "       [ -3.78986233,   0.74617021],\n",
       "       ...,\n",
       "       [-31.736728  ,  14.92620328],\n",
       "       [-28.03223385,  12.84794784],\n",
       "       [-28.44915986,  11.70376902]])"
      ]
     },
     "execution_count": 39,
     "metadata": {},
     "output_type": "execute_result"
    }
   ],
   "source": [
    "data"
   ]
  },
  {
   "cell_type": "code",
   "execution_count": 40,
   "id": "cb24f600",
   "metadata": {},
   "outputs": [
    {
     "data": {
      "text/plain": [
       "(22528, 2)"
      ]
     },
     "execution_count": 40,
     "metadata": {},
     "output_type": "execute_result"
    }
   ],
   "source": [
    "data.shape"
   ]
  },
  {
   "cell_type": "code",
   "execution_count": 41,
   "id": "da7622c9",
   "metadata": {},
   "outputs": [
    {
     "data": {
      "image/png": "[encoded data removed]",
      "text/plain": [
       "<Figure size 640x480 with 1 Axes>"
      ]
     },
     "metadata": {},
     "output_type": "display_data"
    }
   ],
   "source": [
    "import matplotlib.pyplot as plt\n",
    "plt.scatter(data[:,0], data[:,1])\n",
    "plt.title('2 dimensional transformed data')\n",
    "plt.grid(True)\n",
    "plt.show()"
   ]
  },
  {
   "cell_type": "code",
   "execution_count": 42,
   "id": "c4712da0",
   "metadata": {},
   "outputs": [
    {
     "name": "stdout",
     "output_type": "stream",
     "text": [
      "Original memory size: 11534500 bytes\n",
      "Memory size after PCA: 128 bytes\n"
     ]
    }
   ],
   "source": [
    "import sys\n",
    "print(f\"Original memory size: {sys.getsizeof(dt3)} bytes\")\n",
    "print(f\"Memory size after PCA: {sys.getsizeof(data)} bytes\")"
   ]
  },
  {
   "cell_type": "code",
   "execution_count": 43,
   "id": "6923d7d4",
   "metadata": {
    "scrolled": true
   },
   "outputs": [],
   "source": [
    "#from sklearn.discriminant_analysis import LinearDiscriminantAnalysis as LDA\n",
    "#lda=LDA(n_components=2)\n",
    "#lda_data = lda.fit_transform(data[:,0], data[:,1])\n",
    "#lda_data"
   ]
  },
  {
   "cell_type": "code",
   "execution_count": 44,
   "id": "0e6b884f",
   "metadata": {},
   "outputs": [
    {
     "data": {
      "text/plain": [
       "array([[ -2.146,   1.129, -16.856, ...,  -5.269,  -5.636,  -8.901],\n",
       "       [ -2.146,   0.641,  -7.09 , ...,  -5.758,  -2.706,  -7.924],\n",
       "       [ -1.658,  -0.336,   7.558, ...,  -2.828,   1.689,  -3.042],\n",
       "       ...,\n",
       "       [ -7.65 ,  -7.202,  -6.938, ..., -15.055,  -8.657,  -8.413],\n",
       "       [ -3.743,  -5.737,  -4.496, ..., -12.614,  -4.751,  -4.995],\n",
       "       [ -2.279,  -5.249,  -4.008, ..., -10.661,  -0.844,  -4.018]])"
      ]
     },
     "execution_count": 44,
     "metadata": {},
     "output_type": "execute_result"
    }
   ],
   "source": [
    "from sklearn.feature_selection import VarianceThreshold\n",
    "threshold = 50\n",
    "var_filt = VarianceThreshold(threshold).fit_transform(dt3)\n",
    "var_filt"
   ]
  },
  {
   "cell_type": "code",
   "execution_count": 45,
   "id": "630f0b2c",
   "metadata": {},
   "outputs": [
    {
     "data": {
      "text/plain": [
       "(22528, 27)"
      ]
     },
     "execution_count": 45,
     "metadata": {},
     "output_type": "execute_result"
    }
   ],
   "source": [
    "var_filt.shape"
   ]
  },
  {
   "cell_type": "code",
   "execution_count": 47,
   "id": "d7db6967",
   "metadata": {},
   "outputs": [
    {
     "name": "stdout",
     "output_type": "stream",
     "text": [
      "[6.78299607e-01 1.28873559e-01 4.22198708e-02 2.68848161e-02\n",
      " 2.45273776e-02 1.53417151e-02 1.22489241e-02 1.13210442e-02\n",
      " 1.01364950e-02 9.30627575e-03 7.45522648e-03 7.24785013e-03\n",
      " 4.61217438e-03 3.36739984e-03 2.98642125e-03 2.66641565e-03\n",
      " 2.44137676e-03 2.32392538e-03 2.26751083e-03 1.67414439e-03\n",
      " 1.42449907e-03 1.07181124e-03 7.15248586e-04 3.33057902e-04\n",
      " 1.75032814e-04 5.98414969e-05 1.83796264e-05]\n"
     ]
    }
   ],
   "source": [
    "pca_v3 = PCA(n_components=None, random_state=0)\n",
    "variance_filt=pca_v3.fit_transform(var_filt)\n",
    "print(pca_v3.explained_variance_ratio_)"
   ]
  },
  {
   "cell_type": "code",
   "execution_count": 48,
   "id": "a05d775e",
   "metadata": {},
   "outputs": [
    {
     "data": {
      "text/plain": [
       "array([[-23.14347875,   1.44697362],\n",
       "       [-18.63032624,   0.28058769],\n",
       "       [ -4.87142538,  -4.66196636],\n",
       "       ...,\n",
       "       [-30.61542498,  17.93715069],\n",
       "       [-27.90668369,  13.54769742],\n",
       "       [-28.27283963,  10.89068273]])"
      ]
     },
     "execution_count": 48,
     "metadata": {},
     "output_type": "execute_result"
    }
   ],
   "source": [
    "pca_v4=PCA(n_components=2)\n",
    "data_f=pca_v4.fit_transform(var_filt)\n",
    "data_f"
   ]
  },
  {
   "cell_type": "code",
   "execution_count": 51,
   "id": "ac7218ce",
   "metadata": {},
   "outputs": [
    {
     "name": "stdout",
     "output_type": "stream",
     "text": [
      "%80.72\n"
     ]
    }
   ],
   "source": [
    "print(f'%{round(sum(pca_v4.explained_variance_ratio_) * 100,2)}')"
   ]
  }
 ],
 "metadata": {
  "kernelspec": {
   "display_name": "Python 3 (ipykernel)",
   "language": "python",
   "name": "python3"
  },
  "language_info": {
   "codemirror_mode": {
    "name": "ipython",
    "version": 3
   },
   "file_extension": ".py",
   "mimetype": "text/x-python",
   "name": "python",
   "nbconvert_exporter": "python",
   "pygments_lexer": "ipython3",
   "version": "3.11.4"
  }
 },
 "nbformat": 4,
 "nbformat_minor": 5
}
